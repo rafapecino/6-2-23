{
  "nbformat": 4,
  "nbformat_minor": 0,
  "metadata": {
    "colab": {
      "provenance": [],
      "gpuType": "T4",
      "authorship_tag": "ABX9TyO+XeAsOi/bMCY8IHS8TxVh",
      "include_colab_link": true
    },
    "kernelspec": {
      "name": "python3",
      "display_name": "Python 3"
    },
    "language_info": {
      "name": "python"
    },
    "accelerator": "GPU"
  },
  "cells": [
    {
      "cell_type": "markdown",
      "metadata": {
        "id": "view-in-github",
        "colab_type": "text"
      },
      "source": [
        "<a href=\"https://colab.research.google.com/github/rafapecino/6-2-23/blob/main/Lector_ClasificadorCVs.ipynb\" target=\"_parent\"><img src=\"https://colab.research.google.com/assets/colab-badge.svg\" alt=\"Open In Colab\"/></a>"
      ]
    },
    {
      "cell_type": "code",
      "source": [
        "# Instalar las dependencias (descomenta la línea si es necesario)\n",
        "# !pip install PyMuPDF transformers\n",
        "\n",
        "import fitz  # PyMuPDF para la extracción de texto\n",
        "from transformers import pipeline\n",
        "\n",
        "# Función para extraer el texto del PDF\n",
        "def leer_pdf(ruta_pdf):\n",
        "    texto_completo = \"\"\n",
        "    doc = fitz.open(ruta_pdf)\n",
        "    for page in doc:\n",
        "        texto_completo += page.get_text()\n",
        "    doc.close()\n",
        "    return texto_completo\n",
        "\n",
        "# Función para clasificar cada línea en una categoría mediante zero-shot classification\n",
        "def clasificar_lineas(texto, candidate_labels):\n",
        "    # Dividir el texto en líneas y limpiar espacios\n",
        "    lines = [line.strip() for line in texto.splitlines()]\n",
        "    lines = [line for line in lines if line and len(line) > 2]\n",
        "\n",
        "    # Cargar el pipeline de clasificación zero-shot\n",
        "    classifier = pipeline(\"zero-shot-classification\", model=\"Recognai/bert-base-spanish-wwm-cased-xnli\")\n",
        "\n",
        "    # Inicializar un diccionario para acumular líneas por categoría\n",
        "    secciones = {label: [] for label in candidate_labels}\n",
        "\n",
        "    # Opcional: definir una lista de encabezados conocidos para omitirlos (por ejemplo, \"EDUCACIÓN\")\n",
        "    encabezados = set(label.lower() for label in candidate_labels)\n",
        "\n",
        "    # Clasificar línea por línea\n",
        "    for line in lines:\n",
        "        # Omitir líneas que sean encabezados exactos\n",
        "        if line.lower() in encabezados:\n",
        "            continue\n",
        "        result = classifier(line, candidate_labels=candidate_labels, hypothesis_template=\"Este ejemplo es {}.\")\n",
        "        top_label = result[\"labels\"][0]\n",
        "        secciones[top_label].append(line)\n",
        "\n",
        "    return secciones\n",
        "\n",
        "# Ruta del PDF\n",
        "ruta_pdf = \"/content/Curriculum Vitae Rafael Pecino.pdf\"\n",
        "\n",
        "# Definir las categorías deseadas\n",
        "labels = [\"educación\", \"experiencia laboral\", \"habilidades\", \"idiomas\", \"datos personales\"]\n",
        "\n",
        "# Leer el contenido del PDF\n",
        "contenido = leer_pdf(ruta_pdf)\n",
        "\n",
        "# Clasificar las líneas extraídas\n",
        "secciones = clasificar_lineas(contenido, labels)\n",
        "\n",
        "# Imprimir el resultado organizado\n",
        "for categoria, lines in secciones.items():\n",
        "    print(f\"\\n## {categoria.capitalize()}:\")\n",
        "    if lines:\n",
        "        for l in lines:\n",
        "            print(\" -\", l)\n",
        "    else:\n",
        "        print(\"   No se asignaron líneas a esta categoría.\")\n"
      ],
      "metadata": {
        "colab": {
          "base_uri": "https://localhost:8080/"
        },
        "id": "FvkuI86gHDPs",
        "outputId": "b1d4d6ac-0541-4b21-d65a-81adefc0572d"
      },
      "execution_count": 9,
      "outputs": [
        {
          "output_type": "stream",
          "name": "stderr",
          "text": [
            "Device set to use cuda:0\n",
            "You seem to be using the pipelines sequentially on GPU. In order to maximize efficiency please use a dataset\n"
          ]
        },
        {
          "output_type": "stream",
          "name": "stdout",
          "text": [
            "\n",
            "## Educación:\n",
            " - Colegio Arcadia\n",
            " - Secundaria y Bachillerato\n",
            " - Universidad Alfonso X el Sabio\n",
            " - • Beca completa\n",
            " - IINGENIERÍA INFORMÁTICA\n",
            " - Curso de Coding for the Industry de\n",
            "\n",
            "## Experiencia laboral:\n",
            " - PECINO BONILLA\n",
            " - habilidades en trabajo en equipo,\n",
            " - Título de Socorrista AUNAR\n",
            " - PYTHON\n",
            " - Trabajo en equipo\n",
            "\n",
            "## Habilidades:\n",
            " - RAFAEL\n",
            " - ESTUDIANTE\n",
            " - Estudiante proactivo y apasionado\n",
            " - por aprender y aplicar nuevas\n",
            " - tecnologías. Cuento con experiencia\n",
            " - en atención al cliente y gestión,\n",
            " - adaptabilidad y resolución de\n",
            " - problemas, y busco prácticas para\n",
            " - seguir creciendo profesionalmente.\n",
            " - Correo: rafapecino@gmail.com\n",
            " - 34,Villanueva de la Cañada.\n",
            " - 2021-Actualidad\n",
            " - Socorrista\n",
            " - Verano de 2022.\n",
            " - Curso de Foundational Data Analysis\n",
            " - de IronHack\n",
            " - CONTACTO\n",
            " - CURSOS / IDIOMAS\n",
            " - IronHack\n",
            " - Curso de Innovación tecnológica de\n",
            " - Avanade\n",
            " - Camarero/Jefe de Barra estadio\n",
            " - Gestión y responsabilidad\n",
            " - Atención al Cliente\n",
            " - 2022-Actualidad\n",
            " - JAVA Avanzado\n",
            " - Bases de Datos SQL/NoSQL\n",
            " - Desarrollo multiplataforma\n",
            "\n",
            "## Idiomas:\n",
            " - 2016-2021\n",
            " - ING.INFORMÁTICA\n",
            " - 2023.\n",
            " - Idioma Inglés\n",
            " - B2. Nivel Oral Avanzado.\n",
            " - 2024.\n",
            " - 2022.\n",
            " - 2023.\n",
            " - Metropolitano\n",
            "\n",
            "## Datos personales:\n",
            " - Teléfono: 693692362\n",
            " - Dirección: Calle Pintor Miguel Ángel\n"
          ]
        }
      ]
    }
  ]
}